{
 "cells": [
  {
   "cell_type": "code",
   "execution_count": 21,
   "metadata": {},
   "outputs": [],
   "source": [
    "import pandas as pd\n",
    "import numpy as np\n",
    "import statistics \n",
    "import matplotlib.pyplot as plt\n",
    "%matplotlib inline\n"
   ]
  },
  {
   "cell_type": "code",
   "execution_count": 22,
   "metadata": {},
   "outputs": [
    {
     "name": "stdout",
     "output_type": "stream",
     "text": [
      "   month hour  year                         location  \\\n",
      "0      1   12  1950              Near Vacas, Bolivia   \n",
      "1      3   20  1950           Minneapolis, Minnesota   \n",
      "2      3   14  1950  Llandow Airport, Cardiff, Wales   \n",
      "3      4   23  1950               Near Atsugi, Japan   \n",
      "4      5   20  1950    Lagens Air Force Base, Azores   \n",
      "\n",
      "                        operator                          route  \\\n",
      "0  Military - Bolivian Air Force      Valle grande - Cochabamba   \n",
      "1      Northwest Orient Airlines  Rochester Minn. - Minneapolis   \n",
      "2                Fairflight Ltd.               Llandow - Dublin   \n",
      "3      Military - U.S. Air Force            Philippines - Japan   \n",
      "4      Military - U.S. Air Force              Bermuda - England   \n",
      "\n",
      "               type  aboard  fatalities  \\\n",
      "0      Douglas C-47      32          32   \n",
      "1        Martin 202      13          13   \n",
      "2  Avro 689 Tudor 5      83          80   \n",
      "3     Douglas C-54D      35          35   \n",
      "4       Boeing B-29      16          16   \n",
      "\n",
      "                                             summary  \n",
      "0  Crashed while en route in the Andes mountains ...  \n",
      "1  Crashed into a flag pole, well marked by red n...  \n",
      "2  During the approach to Runway 28 at Llandow Ai...  \n",
      "3  Flew off its prescribed course and crashed int...  \n",
      "4  Crashed while attempting to land after being d...  \n"
     ]
    }
   ],
   "source": [
    "df = pd.read_csv(\"plane_crashes_data.csv\")\n",
    "print(df.head())"
   ]
  },
  {
   "cell_type": "markdown",
   "metadata": {},
   "source": [
    "Question 1: what is the mean for number of people killed in the plane crashes for the years 1980 to 2009 (inclusive of both years, rounded to the nearest 100th decimal place)?"
   ]
  },
  {
   "cell_type": "code",
   "execution_count": 23,
   "metadata": {},
   "outputs": [
    {
     "name": "stdout",
     "output_type": "stream",
     "text": [
      "24.932607215793055\n"
     ]
    }
   ],
   "source": [
    "new_df = df[np.logical_and(df['year'] >= 1980, df['year'] <= 2009)]\n",
    "average_crashes = new_df['fatalities'].mean()\n",
    "print(average_crashes)"
   ]
  },
  {
   "cell_type": "markdown",
   "metadata": {},
   "source": [
    "Question 2: For the entire time period (1950 to 2009), which month has seen the most plane crashes?"
   ]
  },
  {
   "cell_type": "code",
   "execution_count": 24,
   "metadata": {},
   "outputs": [
    {
     "name": "stdout",
     "output_type": "stream",
     "text": [
      "1\n"
     ]
    }
   ],
   "source": [
    "d_mode = statistics.mode(df['month'])\n",
    "print(d_mode)"
   ]
  },
  {
   "cell_type": "markdown",
   "metadata": {},
   "source": [
    "Question 3: what is the highest number of fatalities in a single crash?"
   ]
  },
  {
   "cell_type": "code",
   "execution_count": 25,
   "metadata": {},
   "outputs": [
    {
     "name": "stdout",
     "output_type": "stream",
     "text": [
      "583\n"
     ]
    }
   ],
   "source": [
    "max_number = df['fatalities'].max()\n",
    "print(max_number)"
   ]
  },
  {
   "cell_type": "markdown",
   "metadata": {},
   "source": [
    "Question 4: what percentages of crashed flights have had one or more fatalities?"
   ]
  },
  {
   "cell_type": "code",
   "execution_count": 32,
   "metadata": {},
   "outputs": [
    {
     "name": "stdout",
     "output_type": "stream",
     "text": [
      "49\n",
      "2660\n",
      "2709\n",
      "0.9819121447028424\n"
     ]
    }
   ],
   "source": [
    "fatal_total = df['fatalities'].count()\n",
    "df_zero = df[df['fatalities'] == 0]\n",
    "fatal_zero = df_zero['fatalities'].count()\n",
    "difference = fatal_total - fatal_zero\n",
    "print(fatal_zero)\n",
    "print(difference)\n",
    "print(fatal_total)\n",
    "\n",
    "print(difference/fatal_total)"
   ]
  },
  {
   "cell_type": "markdown",
   "metadata": {},
   "source": [
    "Question 5: What is the average percent of passengers (inclusive of crew) killed per plane crash for the entire period?"
   ]
  },
  {
   "cell_type": "code",
   "execution_count": 33,
   "metadata": {},
   "outputs": [
    {
     "name": "stdout",
     "output_type": "stream",
     "text": [
      "0.7207845077244948\n"
     ]
    }
   ],
   "source": [
    "average_aboard_entire = df['aboard'].mean()\n",
    "average_fatalities_entire = df['fatalities'].mean()\n",
    "percent_killed = average_fatalities_entire/average_aboard_entire\n",
    "print(percent_killed)"
   ]
  }
 ],
 "metadata": {
  "kernelspec": {
   "display_name": "Python 3",
   "language": "python",
   "name": "python3"
  },
  "language_info": {
   "codemirror_mode": {
    "name": "ipython",
    "version": 3
   },
   "file_extension": ".py",
   "mimetype": "text/x-python",
   "name": "python",
   "nbconvert_exporter": "python",
   "pygments_lexer": "ipython3",
   "version": "3.7.0"
  }
 },
 "nbformat": 4,
 "nbformat_minor": 2
}
